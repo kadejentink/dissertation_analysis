{
 "cells": [
  {
   "cell_type": "code",
   "execution_count": null,
   "id": "5562dac6-c5a7-43e7-b1e4-e0d35fb7f0ba",
   "metadata": {},
   "outputs": [],
   "source": [
    "\"\"\"\n",
    "DESCRIPTION\n",
    "takes t-maps (in subject space) for single trials and creates neural representational dissimilarity matrices (RDMs)\n",
    "these can be compared against hypothetical models for how representations might be \"structured\" or other RDMs \n",
    "the data sampled for the neural RDMs comes from a whole brain searchlight \n",
    "the goal is to locate regions in the brain which match either the hypothetical model or the other RDMs\n",
    "general order of operations:\n",
    "-initialize parameters\n",
    "-check that parameters match allowable values and confirm their selection\n",
    "-generate certain string values that are needed later\n",
    "-initialize, then run whole brain searchlight representational similarity analysis (RSA)\n",
    "\"\"\""
   ]
  },
  {
   "cell_type": "code",
   "execution_count": 1,
   "id": "377ab3dc-63e2-4305-bb7a-db47cde72d14",
   "metadata": {},
   "outputs": [],
   "source": [
    "# basic imports, including code to help run the RSA and check your starting parameters\n",
    "import sys\n",
    "import os\n",
    "\n",
    "from RSA_helpers import option_check, expanded_names\n",
    "from full_RSA import full_RSA\n",
    "import cfg"
   ]
  },
  {
   "cell_type": "code",
   "execution_count": null,
   "id": "61692d7c-83cf-40de-a292-c9cbdf61dbb5",
   "metadata": {},
   "outputs": [],
   "source": [
    "\"\"\"\n",
    "Description of various parameters that need to be initialized\n",
    "For most of these, there is a discrete set of options allowed\n",
    "\n",
    "Parameters\n",
    "----------\n",
    "sub_num: int [list]\n",
    "     a vector of subject number(s). put them in brackets e.g., \"[2]\" or \"[1,4,5]\"\n",
    "project_name: str\n",
    "    the name used to save the project folder\n",
    "RSA_selection: str\n",
    "    comparison to make for RSA - compare neural RDM to a hypothetical model, or to another neural RDM\n",
    "        : 'model_matrix', 'neural_matrices'\n",
    "model_selection: str\n",
    "    which model to use for model comparison - currently only works for \"category\" and \"spectrum\"\n",
    "        : 'category', 'motor', 'spectrum', None\n",
    "first_phase, second_phase: str\n",
    "    names of phase from the task for comparison\n",
    "        : 'train', 'test', None\n",
    "first_run, second_run: int/str\n",
    "    specific run number (1-4) or 'avg' of runs\n",
    "        : 1, 2, 3, 4, 'avg_1234', 'avg_234', None\n",
    "mask_selection: str\n",
    "    which of several mask options to select. whole brain is generated on the fly using nilearn, the other two are for debugging only\n",
    "        : 'whole_brain', 'single_voxel', 'all_ones'\n",
    "all_dots_heght: str\n",
    "    subjects either had rotation_dots as defining features, or color_height. this setting determines which groups to process\n",
    "    everybody all at once (all), rotation_dots group (dots), or color_height (height)\n",
    "        : 'all', 'dots', 'height'\n",
    "data_path: str\n",
    "    base location of files\n",
    "base_out_path: str\n",
    "    base location of where you want output\n",
    "suffix: str\n",
    "    file extension for data-to-be-loaded\n",
    "sl_rad: int\n",
    "    the number of voxels not counting the center (e.g., rad=2 means 5 voxels wide at center\n",
    "max_blk_edge: int\n",
    "    see comment\n",
    "pool_size: int\n",
    "    see comment\n",
    "\n",
    "OLD\n",
    "debug_RSA: int\n",
    "    selects a different, more easily interactable function for the searchlight script with extra output\n",
    "dot_bin_nums: int\n",
    "    probably won't ever be changed\n",
    "\"\"\""
   ]
  },
  {
   "cell_type": "code",
   "execution_count": null,
   "id": "d57ec1f8-4bbc-4c9e-b772-874ffb04007b",
   "metadata": {
    "tags": []
   },
   "outputs": [],
   "source": [
    "# subject group numbers - reference so you don't have to open the subject spreadsheet\n",
    "# rot_dots = [2,3,8,9,10,14,15,17,18,22,23,24]\n",
    "# col_hght = [4,5,6,7,11,12,13,16,19,20,21,25]"
   ]
  },
  {
   "cell_type": "code",
   "execution_count": 2,
   "id": "fa9ff091-b199-491b-a58f-32bc82307f6b",
   "metadata": {},
   "outputs": [],
   "source": [
    "# this is where you establish the basic starting parameters following the guidelines above\n",
    "sub_num = [2]\n",
    "project_name = 'delete'\n",
    "RSA_selection = 'model_matrix'\n",
    "model_selection = 'category'\n",
    "first_phase = 'train'\n",
    "first_run = 'avg_234'\n",
    "second_phase = None\n",
    "second_run = None\n",
    "mask_selection = 'whole_brain'\n",
    "all_dots_height = 'dots'\n",
    "\n",
    "if all_dots_height is 'all':\n",
    "    derivatives_folder = 'derivatives'\n",
    "elif all_dots_height is 'dots':\n",
    "    derivatives_folder = 'derivatives_spectrum_dots'\n",
    "elif all_dots_height is 'height':\n",
    "    derivatives_folder = 'derivatives_spectrum_height'\n",
    "\n",
    "# path where bin files are located\n",
    "data_path = os.path.join('/','media','shareDrive2','data','overshadowing','dissertation','dataset',\n",
    "                         'derivatives','derivatives','1st_level','02',derivatives_folder)\n",
    "\n",
    "# set up output folder\n",
    "base_out_path = os.path.join(os.path.expanduser('~'),'brainiak_results','searchlight_results',project_name,RSA_selection)\n",
    "\n",
    "# this would need to change if you used something other than SPM i.e., '.nii.gz'\n",
    "suffix = '.nii'\n",
    "\n",
    "# radius\n",
    "sl_rad = 4\n",
    "\n",
    "# \"When the searchlight function carves the data up into chunks,\n",
    "# it doesn't distribute only a single searchlight's worth of data.\n",
    "# it creates a block of data, with the edge length specified by this variable\"\n",
    "max_blk_edge = 5\n",
    "\n",
    "# maximum number of cores running on a block (the blocks defined by max_blk_edge?)\n",
    "pool_size = 1"
   ]
  },
  {
   "cell_type": "code",
   "execution_count": null,
   "id": "e9a92048-bad5-4f06-9f93-b878d990d0ad",
   "metadata": {},
   "outputs": [],
   "source": [
    "# check your selections for all the different options\n",
    "option_check(RSA_selection,model_selection,first_phase,first_run,second_phase,second_run,mask_selection)\n",
    "# get some strings formatted\n",
    "first_run_name, second_run_name = expanded_names(first_run,second_run)"
   ]
  },
  {
   "cell_type": "code",
   "execution_count": null,
   "id": "6a03fc27-06c5-4edb-a100-92d82bca5280",
   "metadata": {},
   "outputs": [],
   "source": [
    "# display parameters of analysis for confirmation\n",
    "print(\"Please confirm processing settings:\")\n",
    "print(f\"You are running:\")\n",
    "for subs in sub_num:\n",
    "    print(f\"sub-{subs:>02}\")\n",
    "print(f\"Type of RSA: {RSA_selection}\")\n",
    "print(f\"Mask selection: {mask_selection}\")\n",
    "if RSA_selection is 'model_matrix':\n",
    "    print(f\"You are comparing '{first_run_name}' data from the '{first_phase}' phase to a '{model_selection}' model\")\n",
    "elif RSA_selection is 'neural_matrices':\n",
    "    print(f\"You are comparing '{first_run_name}' data from the '{first_phase}' phase to '{second_run_name}' data \"\n",
    "          f\"from the '{second_phase}' phase\")\n",
    "print(f\"General output path:\\n {base_out_path}\")\n",
    "if RSA_selection is 'neural_matrices' and first_run == second_run and first_phase == second_phase:\n",
    "    sanity_check = input(\"Are you performing a sanity check? Your phase and run RSA_selections are identical.\")\n",
    "\n",
    "pause = input(\"Press 'Enter' to confirm settings:\\n\")\n",
    "if pause != '':\n",
    "    raise Exception(\"Please check settings and try again\")"
   ]
  },
  {
   "cell_type": "code",
   "execution_count": null,
   "id": "f20bd392-7ae7-493a-8bd2-447aaeaab5d0",
   "metadata": {},
   "outputs": [],
   "source": [
    "# run RSA for either a single subject or a group of subjects\n",
    "for sub in sub_num:\n",
    "    sub_name = f'sub-{sub:>02}'\n",
    "    full_RSA(RSA_selection,model_selection,first_phase,first_run,second_phase,second_run,mask_selection,\n",
    "             data_path,base_out_path,suffix,sl_rad,max_blk_edge,pool_size,sub_name,first_run_name,\n",
    "             second_run_name,all_dots_height)"
   ]
  }
 ],
 "metadata": {
  "kernelspec": {
   "display_name": "Python [conda env:brainiak]",
   "language": "python",
   "name": "conda-env-brainiak-py"
  },
  "language_info": {
   "codemirror_mode": {
    "name": "ipython",
    "version": 3
   },
   "file_extension": ".py",
   "mimetype": "text/x-python",
   "name": "python",
   "nbconvert_exporter": "python",
   "pygments_lexer": "ipython3",
   "version": "3.7.10"
  }
 },
 "nbformat": 4,
 "nbformat_minor": 5
}
