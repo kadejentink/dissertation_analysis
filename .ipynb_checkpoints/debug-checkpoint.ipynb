{
 "cells": [
  {
   "cell_type": "code",
   "execution_count": 1,
   "id": "377ab3dc-63e2-4305-bb7a-db47cde72d14",
   "metadata": {},
   "outputs": [],
   "source": [
    "import sys\n",
    "import os\n",
    "\n",
    "from RSA_helpers import option_check, expanded_names\n",
    "from full_RSA import full_RSA\n",
    "import cfg"
   ]
  },
  {
   "cell_type": "code",
   "execution_count": null,
   "id": "4a760d16-2e49-42fa-b27f-40500d2eb055",
   "metadata": {},
   "outputs": [],
   "source": [
    "# test message"
   ]
  },
  {
   "cell_type": "code",
   "execution_count": null,
   "id": "61692d7c-83cf-40de-a292-c9cbdf61dbb5",
   "metadata": {},
   "outputs": [],
   "source": [
    "\"\"\"\n",
    "Actually select the options\n",
    "\n",
    "Parameters\n",
    "----------\n",
    "sub_num: int [list]\n",
    "     a vector of subject number(s). put them in brackets e.g., \"[2]\" or \"[1,4,5]\"\n",
    "project_name: str\n",
    "    the name used to save the project folder\n",
    "RSA_selection: str\n",
    "    comparison to make for RSA\n",
    "        : 'model_matrix', 'neural_matrices'\n",
    "model_selection: str\n",
    "    which model to use for model comparison\n",
    "        : 'category', 'motor', 'spectrum', None\n",
    "first_phase, second_phase: str\n",
    "    names of phases for comparison\n",
    "        : 'train', 'test', None\n",
    "first_run, second_run: int/str\n",
    "    run number or 'avg' of runs\n",
    "        : 1, 2, 3, 4, 'avg_1234', 'avg_234', None\n",
    "mask_selection: str\n",
    "    which of several mask options to select\n",
    "        : 'whole_brain', 'single_voxel', 'all_ones'\n",
    "all_dots_heght: str\n",
    "    subjects either had rotation_dots as defining features, or color_height. this setting determines which groups to process\n",
    "    everybody all at once (all), rotation_dots group (dots), or color_height (height)\n",
    "        : 'all', 'dots', 'height'\n",
    "data_path: str\n",
    "    base location of files\n",
    "base_out_path: str\n",
    "    base location of where you want output\n",
    "suffix: str\n",
    "    file extension for data-to-be-loaded\n",
    "sl_rad: int\n",
    "    the number of voxels not counting the center\n",
    "max_blk_edge: int\n",
    "    see comment\n",
    "pool_size: int\n",
    "    see comment\n",
    "\n",
    "OLD\n",
    "debug_RSA: int\n",
    "    selects a different, more easily interactable function for the searchlight script with extra output\n",
    "dot_bin_nums: int\n",
    "    probably won't ever be changed\n",
    "\"\"\""
   ]
  },
  {
   "cell_type": "code",
   "execution_count": null,
   "id": "4b9bb3ba-ee1b-4ab2-83fd-d65a9d6cb695",
   "metadata": {},
   "outputs": [],
   "source": [
    "# THIS SECTION HAS BEEN MODIFIED"
   ]
  },
  {
   "cell_type": "code",
   "execution_count": null,
   "id": "d57ec1f8-4bbc-4c9e-b772-874ffb04007b",
   "metadata": {},
   "outputs": [],
   "source": [
    "# subject groups\n",
    "# rot_dots = [2,3,8,9,10,14,15,17,18,22,23,24]\n",
    "# col_hght = [4,5,6,7,11,12,13,16,19,20,21,25]"
   ]
  },
  {
   "cell_type": "code",
   "execution_count": 2,
   "id": "0ecb1cff-f232-451b-934a-33a875394faf",
   "metadata": {},
   "outputs": [],
   "source": [
    "# this is where you establish the basic starting parameters following the guidelines above\n",
    "sub_num = [8,9,10,14,15,17,18,22,23,24]\n",
    "project_name = 'dissertation'\n",
    "RSA_selection = 'model_matrix'\n",
    "model_selection = 'category'\n",
    "first_phase = 'train'\n",
    "first_run = 'avg_234'\n",
    "second_phase = None\n",
    "second_run = None\n",
    "mask_selection = 'whole_brain'\n",
    "all_dots_height = 'dots'\n",
    "\n",
    "if all_dots_height is 'all':\n",
    "    derivatives_folder = 'derivatives'\n",
    "elif all_dots_height is 'dots':\n",
    "    derivatives_folder = 'derivatives_spectrum_dots'\n",
    "elif all_dots_height is 'height':\n",
    "    derivatives_folder = 'derivatives_spectrum_height'\n",
    "\n",
    "# path where bin files are located\n",
    "data_path = os.path.join('/','media','shareDrive2','data','overshadowing','dissertation','dataset',\n",
    "                         'derivatives','derivatives','1st_level','02',derivatives_folder)\n",
    "\n",
    "# set up output folder\n",
    "base_out_path = os.path.join(os.path.expanduser('~'),'brainiak_results','searchlight_results',project_name,RSA_selection)\n",
    "\n",
    "# this would need to change if you used something other than SPM i.e., '.nii.gz'\n",
    "suffix = '.nii'\n",
    "\n",
    "# radius\n",
    "sl_rad = 4\n",
    "\n",
    "# \"When the searchlight function carves the data up into chunks,\n",
    "# it doesn't distribute only a single searchlight's worth of data.\n",
    "# it creates a block of data, with the edge length specified by this variable\"\n",
    "max_blk_edge = 5\n",
    "\n",
    "# maximum number of cores running on a block (the blocks defined by max_blk_edge?)\n",
    "pool_size = 1"
   ]
  },
  {
   "cell_type": "code",
   "execution_count": null,
   "id": "4f02c2f7-3690-4079-8868-e9c5e9393a35",
   "metadata": {},
   "outputs": [],
   "source": [
    "# THIS SECTION HAS BEEN MODIFIED"
   ]
  },
  {
   "cell_type": "code",
   "execution_count": 3,
   "id": "e9a92048-bad5-4f06-9f93-b878d990d0ad",
   "metadata": {},
   "outputs": [
    {
     "name": "stdout",
     "output_type": "stream",
     "text": [
      "\n",
      "\n",
      "Options look good!\n",
      "\n"
     ]
    }
   ],
   "source": [
    "# check your selections for all the different options\n",
    "option_check(RSA_selection,model_selection,first_phase,first_run,second_phase,second_run,mask_selection)\n",
    "# get some strings formatted\n",
    "first_run_name, second_run_name = expanded_names(first_run,second_run)"
   ]
  },
  {
   "cell_type": "code",
   "execution_count": 4,
   "id": "6a03fc27-06c5-4edb-a100-92d82bca5280",
   "metadata": {},
   "outputs": [
    {
     "name": "stdout",
     "output_type": "stream",
     "text": [
      "Please confirm processing settings:\n",
      "You are running:\n",
      "sub-08\n",
      "sub-09\n",
      "sub-10\n",
      "sub-14\n",
      "sub-15\n",
      "sub-17\n",
      "sub-18\n",
      "sub-22\n",
      "sub-23\n",
      "sub-24\n",
      "Type of RSA: model_matrix\n",
      "Mask selection: whole_brain\n",
      "You are comparing 'avg_234' data from the 'train' phase to a 'category' model\n",
      "General output path:\n",
      " /home/lappy/brainiak_results/searchlight_results/dissertation/model_matrix\n"
     ]
    },
    {
     "name": "stdin",
     "output_type": "stream",
     "text": [
      "Press 'Enter' to confirm settings:\n",
      " \n"
     ]
    }
   ],
   "source": [
    "# display parameters of analysis for confirmation\n",
    "print(\"Please confirm processing settings:\")\n",
    "print(f\"You are running:\")\n",
    "for subs in sub_num:\n",
    "    print(f\"sub-{subs:>02}\")\n",
    "print(f\"Type of RSA: {RSA_selection}\")\n",
    "print(f\"Mask selection: {mask_selection}\")\n",
    "if RSA_selection is 'model_matrix':\n",
    "    print(f\"You are comparing '{first_run_name}' data from the '{first_phase}' phase to a '{model_selection}' model\")\n",
    "elif RSA_selection is 'neural_matrices':\n",
    "    print(f\"You are comparing '{first_run_name}' data from the '{first_phase}' phase to '{second_run_name}' data \"\n",
    "          f\"from the '{second_phase}' phase\")\n",
    "print(f\"General output path:\\n {base_out_path}\")\n",
    "if RSA_selection is 'neural_matrices' and first_run == second_run and first_phase == second_phase:\n",
    "    sanity_check = input(\"Are you performing a sanity check? Your phase and run RSA_selections are identical.\")\n",
    "\n",
    "pause = input(\"Press 'Enter' to confirm settings:\\n\")\n",
    "if pause != '':\n",
    "    raise Exception(\"Please check settings and try again\")"
   ]
  },
  {
   "cell_type": "code",
   "execution_count": null,
   "id": "d25f2143-ac5a-4376-b0db-c5b0658678be",
   "metadata": {},
   "outputs": [],
   "source": [
    "# THIS SECTION HAS BEEN ALTERED"
   ]
  },
  {
   "cell_type": "code",
   "execution_count": 5,
   "id": "f20bd392-7ae7-493a-8bd2-447aaeaab5d0",
   "metadata": {},
   "outputs": [
    {
     "name": "stdout",
     "output_type": "stream",
     "text": [
      "Processing...\n",
      "Output file name: \n",
      "sub-08_train-avg_234_model-category_mask-whole_brain_rad-4.nii.gz\n",
      "Is your mask the same size as your data: True\n",
      "Setup searchlight inputs\n",
      "Input data shape: (66, 76, 46, 20)\n",
      "Input mask shape: (66, 76, 46)\n",
      "\n",
      "\n",
      "Begin Searchlight\n",
      "End Searchlight\n",
      "\n",
      "Number of searchlights run: 83853\n",
      "Total searchlight duration (including start up time):\n",
      " 98.1240\n",
      "Maximum size of searchlight Ball is 257\n",
      "Saving...\n",
      "Saved!\n",
      "---\n",
      "Processing...\n",
      "Output file name: \n",
      "sub-09_train-avg_234_model-category_mask-whole_brain_rad-4.nii.gz\n",
      "Is your mask the same size as your data: True\n",
      "Setup searchlight inputs\n",
      "Input data shape: (65, 71, 43, 20)\n",
      "Input mask shape: (65, 71, 43)\n",
      "\n",
      "\n",
      "Begin Searchlight\n",
      "End Searchlight\n",
      "\n",
      "Number of searchlights run: 71649\n",
      "Total searchlight duration (including start up time):\n",
      " 82.8847\n",
      "Maximum size of searchlight Ball is 257\n",
      "Saving...\n",
      "Saved!\n",
      "---\n",
      "Processing...\n",
      "Output file name: \n",
      "sub-10_train-avg_234_model-category_mask-whole_brain_rad-4.nii.gz\n",
      "Is your mask the same size as your data: True\n",
      "Setup searchlight inputs\n",
      "Input data shape: (61, 73, 42, 20)\n",
      "Input mask shape: (61, 73, 42)\n",
      "\n",
      "\n",
      "Begin Searchlight\n",
      "End Searchlight\n",
      "\n",
      "Number of searchlights run: 66181\n",
      "Total searchlight duration (including start up time):\n",
      " 74.8025\n",
      "Maximum size of searchlight Ball is 257\n",
      "Saving...\n",
      "Saved!\n",
      "---\n",
      "Processing...\n",
      "Output file name: \n",
      "sub-14_train-avg_234_model-category_mask-whole_brain_rad-4.nii.gz\n",
      "Is your mask the same size as your data: True\n",
      "Setup searchlight inputs\n",
      "Input data shape: (61, 74, 42, 20)\n",
      "Input mask shape: (61, 74, 42)\n",
      "\n",
      "\n",
      "Begin Searchlight\n",
      "End Searchlight\n",
      "\n",
      "Number of searchlights run: 68890\n",
      "Total searchlight duration (including start up time):\n",
      " 76.0697\n",
      "Maximum size of searchlight Ball is 257\n",
      "Saving...\n",
      "Saved!\n",
      "---\n",
      "Processing...\n",
      "Output file name: \n",
      "sub-15_train-avg_234_model-category_mask-whole_brain_rad-4.nii.gz\n",
      "Is your mask the same size as your data: True\n",
      "Setup searchlight inputs\n",
      "Input data shape: (59, 76, 42, 20)\n",
      "Input mask shape: (59, 76, 42)\n",
      "\n",
      "\n",
      "Begin Searchlight\n",
      "End Searchlight\n",
      "\n",
      "Number of searchlights run: 70983\n",
      "Total searchlight duration (including start up time):\n",
      " 80.1757\n",
      "Maximum size of searchlight Ball is 257\n",
      "Saving...\n",
      "Saved!\n",
      "---\n",
      "Processing...\n",
      "Output file name: \n",
      "sub-17_train-avg_234_model-category_mask-whole_brain_rad-4.nii.gz\n",
      "Is your mask the same size as your data: True\n",
      "Setup searchlight inputs\n",
      "Input data shape: (64, 70, 43, 20)\n",
      "Input mask shape: (64, 70, 43)\n",
      "\n",
      "\n",
      "Begin Searchlight\n",
      "End Searchlight\n",
      "\n",
      "Number of searchlights run: 70446\n",
      "Total searchlight duration (including start up time):\n",
      " 77.6178\n",
      "Maximum size of searchlight Ball is 257\n",
      "Saving...\n",
      "Saved!\n",
      "---\n",
      "Processing...\n",
      "Output file name: \n",
      "sub-18_train-avg_234_model-category_mask-whole_brain_rad-4.nii.gz\n",
      "Is your mask the same size as your data: True\n",
      "Setup searchlight inputs\n",
      "Input data shape: (63, 73, 45, 20)\n",
      "Input mask shape: (63, 73, 45)\n",
      "\n",
      "\n",
      "Begin Searchlight\n",
      "End Searchlight\n",
      "\n",
      "Number of searchlights run: 76464\n",
      "Total searchlight duration (including start up time):\n",
      " 88.8397\n",
      "Maximum size of searchlight Ball is 257\n",
      "Saving...\n",
      "Saved!\n",
      "---\n",
      "Processing...\n",
      "Output file name: \n",
      "sub-22_train-avg_234_model-category_mask-whole_brain_rad-4.nii.gz\n",
      "Is your mask the same size as your data: True\n",
      "Setup searchlight inputs\n",
      "Input data shape: (66, 72, 45, 20)\n",
      "Input mask shape: (66, 72, 45)\n",
      "\n",
      "\n",
      "Begin Searchlight\n",
      "End Searchlight\n",
      "\n",
      "Number of searchlights run: 78371\n",
      "Total searchlight duration (including start up time):\n",
      " 89.9092\n",
      "Maximum size of searchlight Ball is 257\n",
      "Saving...\n",
      "Saved!\n",
      "---\n",
      "Processing...\n",
      "Output file name: \n",
      "sub-23_train-avg_234_model-category_mask-whole_brain_rad-4.nii.gz\n",
      "Is your mask the same size as your data: True\n",
      "Setup searchlight inputs\n",
      "Input data shape: (64, 73, 41, 20)\n",
      "Input mask shape: (64, 73, 41)\n",
      "\n",
      "\n",
      "Begin Searchlight\n",
      "End Searchlight\n",
      "\n",
      "Number of searchlights run: 76153\n",
      "Total searchlight duration (including start up time):\n",
      " 83.5485\n",
      "Maximum size of searchlight Ball is 257\n",
      "Saving...\n",
      "Saved!\n",
      "---\n",
      "Processing...\n",
      "Output file name: \n",
      "sub-24_train-avg_234_model-category_mask-whole_brain_rad-4.nii.gz\n",
      "Is your mask the same size as your data: True\n",
      "Setup searchlight inputs\n",
      "Input data shape: (62, 69, 41, 20)\n",
      "Input mask shape: (62, 69, 41)\n",
      "\n",
      "\n",
      "Begin Searchlight\n",
      "End Searchlight\n",
      "\n",
      "Number of searchlights run: 62818\n",
      "Total searchlight duration (including start up time):\n",
      " 71.8512\n",
      "Maximum size of searchlight Ball is 257\n",
      "Saving...\n",
      "Saved!\n",
      "---\n"
     ]
    }
   ],
   "source": [
    "# run RSA for either a single subject or a group of subjects\n",
    "for sub in sub_num:\n",
    "    sub_name = f'sub-{sub:>02}'\n",
    "    full_RSA(RSA_selection,model_selection,first_phase,first_run,second_phase,second_run,mask_selection,\n",
    "             data_path,base_out_path,suffix,sl_rad,max_blk_edge,pool_size,sub_name,first_run_name,\n",
    "             second_run_name,all_dots_height)"
   ]
  },
  {
   "cell_type": "code",
   "execution_count": null,
   "id": "f36d0554-70e0-4d33-b885-69f6235140e3",
   "metadata": {},
   "outputs": [],
   "source": [
    "\"\"\"\n",
    "EVERYTHING BELOW THIS IS FROM 'full_RSA.py'\n",
    "THIS IS A WAY TO TEST THE CODE\n",
    "WHEN YOU ARE SATISFIED THAT EVERYTHING LOOKS GOOD, DELETE EVERYTHING BELOW HERE\n",
    "\"\"\""
   ]
  },
  {
   "cell_type": "code",
   "execution_count": 5,
   "id": "65a8c3ad-c615-40ae-ac1a-1d87c30a39b9",
   "metadata": {},
   "outputs": [],
   "source": [
    "import sys\n",
    "import os\n",
    "import time\n",
    "\n",
    "import math\n",
    "import numpy as np\n",
    "from scipy import stats\n",
    "import nibabel as nib\n",
    "from nilearn.image import get_data, concat_imgs\n",
    "from nilearn.masking import intersect_masks, compute_background_mask\n",
    "from brainiak.searchlight.searchlight import Searchlight, Ball\n",
    "from brainiak import io\n",
    "from pathlib import Path\n",
    "from mpi4py import MPI\n",
    "\n",
    "import importlib\n",
    "\n",
    "from RSA_helpers import option_check, expanded_names, get_file_info\n",
    "from RSA_helpers import calc_rsm_neural_matrices\n",
    "\n",
    "np.set_printoptions(threshold=sys.maxsize)\n",
    "np.set_printoptions(precision=4, suppress=True)"
   ]
  },
  {
   "cell_type": "code",
   "execution_count": 6,
   "id": "ae0904f4-5ffe-49b4-a074-1aed91d25587",
   "metadata": {},
   "outputs": [],
   "source": [
    "# assign \"None\" to unused variables if it wasn't done in initialization\n",
    "if RSA_selection is 'model_matrix':\n",
    "    second_phase = second_run = None\n",
    "elif RSA_selection is 'neural_matrices':\n",
    "    model_selection = None\n",
    "\n",
    "if RSA_selection is 'model_matrix':\n",
    "    run_comparison_name = f\"{first_phase}-{first_run_name}_model-{model_selection}\"\n",
    "    out_path = os.path.join(base_out_path,run_comparison_name)\n",
    "elif RSA_selection is 'neural_matrices':\n",
    "    run_comparison_name = f\"{first_phase}-{first_run_name}_{second_phase}-{second_run_name}\"\n",
    "    out_path = os.path.join(base_out_path,run_comparison_name)"
   ]
  },
  {
   "cell_type": "code",
   "execution_count": 7,
   "id": "d15a854c-5b34-497e-966a-bd8b5f9844a2",
   "metadata": {},
   "outputs": [],
   "source": [
    "# identify a single subject to run - not necessary to include in \"full_RSA.py\"\n",
    "subject = 2\n",
    "sub_name = f'sub-{subject:>02}'"
   ]
  },
  {
   "cell_type": "code",
   "execution_count": null,
   "id": "a507a01e-e980-4c11-9129-4966f55850f5",
   "metadata": {},
   "outputs": [],
   "source": [
    "if not os.path.exists(out_path):\n",
    "    os.makedirs(out_path)"
   ]
  },
  {
   "cell_type": "code",
   "execution_count": 8,
   "id": "e128df74-a38a-4cdf-be04-3303eca9cf47",
   "metadata": {},
   "outputs": [
    {
     "name": "stdout",
     "output_type": "stream",
     "text": [
      "Processing...\n",
      "Output file name: \n",
      "sub-02_train-avg_234_model-category_mask-whole_brain_rad-10.nii.gz\n"
     ]
    }
   ],
   "source": [
    "# set output name/path\n",
    "output_file_name = f'{sub_name}_{run_comparison_name}_mask-{mask_selection}_rad-{sl_rad}.nii.gz'\n",
    "output_name = os.path.join(out_path, output_file_name)\n",
    "\n",
    "# print out basic filename information to keep track of who is being processed\n",
    "print(\"Processing...\")\n",
    "print(f\"Output file name: \\n{output_file_name}\")"
   ]
  },
  {
   "cell_type": "code",
   "execution_count": 9,
   "id": "9df5c20b-449f-43c0-b508-ce5971cc229b",
   "metadata": {},
   "outputs": [],
   "source": [
    "# two dict objects: a list of file paths as str, and a list of nibabel NIfTI objects\n",
    "# empty storage banks\n",
    "phase_images = {}\n",
    "phase_image_files = {}\n",
    "# grabs two different types of dict containers - one with nibabel-based memory objects for neuroimages, one with file paths\n",
    "if RSA_selection is 'model_matrix':\n",
    "    phase_images[f\"{first_phase}_{first_run_name}\"] = io.load_images_from_dir(os.path.join(\n",
    "        data_path,sub_name,first_phase,first_run_name), suffix)\n",
    "    phase_image_files[f\"{first_phase}_{first_run_name}\"] = sorted(Path(os.path.join(\n",
    "        data_path,sub_name,first_phase,first_run_name)).glob(\"*\" + suffix))\n",
    "    # load in model matrices\n",
    "    if model_selection is not None:\n",
    "        model = np.loadtxt(f\"{data_path}/model_{model_selection}.csv\",delimiter=',')\n",
    "\n",
    "if RSA_selection is 'neural_matrices':\n",
    "    for phase,run in zip([first_phase,second_phase],[first_run_name,second_run_name]):\n",
    "        # Create an image object that can be efficiently used by the data loader.\n",
    "        phase_images[f\"{phase}_{run}\"] = io.load_images_from_dir(os.path.join(\n",
    "            data_path,sub_name,phase,run), suffix)\n",
    "        phase_image_files[f\"{phase}_{run}\"] = sorted(Path(os.path.join(\n",
    "            data_path,sub_name,phase,run)).glob(\"*\" + suffix))"
   ]
  },
  {
   "cell_type": "code",
   "execution_count": 10,
   "id": "6ea3bd71-5fd8-4bb2-89d2-3f9fd9346c44",
   "metadata": {},
   "outputs": [],
   "source": [
    "#This section is new"
   ]
  },
  {
   "cell_type": "code",
   "execution_count": 11,
   "id": "65c3ad27-5374-4fc2-813c-f74fd6077e08",
   "metadata": {},
   "outputs": [],
   "source": [
    "# compute masks - load a random file (within a run, they're all the same shape/size), compute a mask\n",
    "# create a variable for whatever derivatives folder you have selected\n",
    "if all_dots_height is 'all':\n",
    "    file_name = f\"{sub_name}_{first_phase}_{first_run_name}_category_0_001.nii\"\n",
    "elif all_dots_height is 'dots':\n",
    "    if first_run_name is 'avg_234':\n",
    "        file_name = f\"{sub_name}_{first_phase}_runs-{first_run_name[-3:]}_dots-07.nii\"\n",
    "    elif first_run_name is 'avg_1234':\n",
    "        file_name = f\"{sub_name}_{first_phase}_runs-{first_run_name[-4:]}_dots-07.nii\"\n",
    "    else:\n",
    "        file_name = f\"{sub_name}_{first_phase}_{first_run_name}_dots-07.nii\"\n",
    "elif all_dots_height is 'height':\n",
    "    if first_run_name is 'avg_234':\n",
    "        file_name = f\"{sub_name}_{first_phase}_runs-{first_run_name[-3:]}_height-183.nii\"\n",
    "    elif first_run_name is 'avg_1234':\n",
    "        file_name = f\"{sub_name}_{first_phase}_runs-{first_run_name[-4:]}_height-183.nii\"\n",
    "    else:\n",
    "        file_name = f\"{sub_name}_{first_phase}_{first_run_name}_height-183.nii\""
   ]
  },
  {
   "cell_type": "code",
   "execution_count": 12,
   "id": "e1a0d1d9-6c9a-484f-b75f-9b13d8a5110f",
   "metadata": {},
   "outputs": [],
   "source": [
    "#This section has been altered"
   ]
  },
  {
   "cell_type": "code",
   "execution_count": 13,
   "id": "ffdc9240-eddf-4425-bce7-7b696be3dcd1",
   "metadata": {},
   "outputs": [],
   "source": [
    "# if 'neural_matrices' is selected, compute an intersection of both masks\n",
    "if RSA_selection is 'model_matrix':\n",
    "    mask = nib.load(os.path.join(data_path,sub_name,first_phase,first_run_name,file_name))\n",
    "    mask = compute_background_mask(mask)\n",
    "    mask_np = get_data(mask)\n",
    "elif RSA_selection is 'neural_matrices':\n",
    "    mask1 = nib.load(os.path.join(data_path,sub_name,first_phase,first_run_name,file_name))\n",
    "    mask2 = nib.load(os.path.join(data_path,sub_name,second_phase,second_run_name,file_name))\n",
    "\n",
    "    mask1 = compute_background_mask(mask1)\n",
    "    mask2 = compute_background_mask(mask2)\n",
    "\n",
    "    mask_list = [mask1,mask2]\n",
    "    mask = intersect_masks(mask_list,threshold=1.0)\n",
    "    mask_np = get_data(mask)"
   ]
  },
  {
   "cell_type": "code",
   "execution_count": 14,
   "id": "f5cfbc58-3745-4d1f-847c-919bc6cc8007",
   "metadata": {},
   "outputs": [
    {
     "name": "stdout",
     "output_type": "stream",
     "text": [
      "Is your mask the same size as your data: True\n"
     ]
    }
   ],
   "source": [
    "# get misc info from one file for saving later\n",
    "# if RSA_selection = 'neural_matrices', get one file from each phase/run combo and also checks that they're equal (affine, voxel size)\n",
    "# it should be the same for all files in both phases already, but let's double-check\n",
    "\n",
    "# load and check\n",
    "data,condition_list,affine_mat,dimsize = get_file_info(RSA_selection,phase_images,phase_image_files,mask_np)"
   ]
  },
  {
   "cell_type": "code",
   "execution_count": 15,
   "id": "8152ef24-d200-4d97-8fa7-4919eb858645",
   "metadata": {},
   "outputs": [],
   "source": [
    "# do some stuff I don't entirely understand\n",
    "comm = MPI.COMM_WORLD\n",
    "rank = comm.rank\n",
    "size = comm.size"
   ]
  },
  {
   "cell_type": "code",
   "execution_count": 16,
   "id": "80e1229b-aa11-4548-9e22-85b0a8c5b515",
   "metadata": {},
   "outputs": [],
   "source": [
    "# first is whole mask, second is significant voxel, third is entire box of 1's for testing searchlight shape\n",
    "# mask is a computed background mask\n",
    "if mask_selection is 'whole_brain':\n",
    "    small_mask = mask_np\n",
    "# 1-voxel at a highly significant spot for RDM v cat model comparison\n",
    "elif mask_selection is 'single_voxel':\n",
    "    small_mask = np.zeros(mask_np.shape)\n",
    "    small_mask[30:34,33:37,20:24] = 1\n",
    "# entire box of ones for visualizing searchlight shapes or other reasons\n",
    "elif mask_selection is 'all_ones':\n",
    "    mask_test = mask_np.copy()\n",
    "    mask_test.fill(1)\n",
    "    small_mask = mask_test\n",
    "\n",
    "# bcvar could be model, or if you're comparing two neural matrices, \"None\" (it's unused in that comparison)\n",
    "if RSA_selection is 'model_matrix':\n",
    "    bcvar = model\n",
    "elif RSA_selection is 'neural_matrices':\n",
    "    bcvar = None"
   ]
  },
  {
   "cell_type": "code",
   "execution_count": 17,
   "id": "cf472d15-d0c1-4b53-a7ca-364c21b70db7",
   "metadata": {},
   "outputs": [
    {
     "name": "stdout",
     "output_type": "stream",
     "text": [
      "Setup searchlight inputs\n",
      "Input data shape: (65, 70, 44, 20)\n",
      "Input mask shape: (65, 70, 44)\n",
      "\n"
     ]
    }
   ],
   "source": [
    "# create searchlight object and make information available for processing. select debugging or not\n",
    "\n",
    "sl = Searchlight(sl_rad=sl_rad,max_blk_edge=max_blk_edge,shape=Ball)\n",
    "\n",
    "print(\"Setup searchlight inputs\")\n",
    "print(\"Input data shape: \" + str(data[0].shape))\n",
    "print(\"Input mask shape: \" + str(small_mask.shape) + \"\\n\")\n",
    "\n",
    "# Distribute the information to the searchlights (preparing it to run)\n",
    "# 'data' needs to be a list i.e., data[0].shape = x,y,z,epochs\n",
    "# the list can contain data for multiple subjects, but in this case, it has data for both phases\n",
    "sl.distribute(data, small_mask)\n",
    "# Data that is needed for all searchlights is sent to all cores via the sl.broadcast function.\n",
    "# In this example, we are sending the labels for classification to all searchlights.\n",
    "sl.broadcast(bcvar)"
   ]
  },
  {
   "cell_type": "code",
   "execution_count": 18,
   "id": "fbeb49c8-af52-4d53-99e1-61b9521f5ce0",
   "metadata": {},
   "outputs": [],
   "source": [
    "global a\n",
    "a = 0"
   ]
  },
  {
   "cell_type": "code",
   "execution_count": 19,
   "id": "6231d0dd-45a3-4e2d-a124-9d4ccaf05617",
   "metadata": {},
   "outputs": [],
   "source": [
    "def calc_rsm_model_matrix(data, sl_mask, myrad, bcvar, ):\n",
    "    # extract 1st subject's data and labels\n",
    "    data4D = data[0]\n",
    "    labels = bcvar\n",
    "    \n",
    "    # apply to Ball shape only\n",
    "    if myrad == 1:\n",
    "        total_voxels = 7\n",
    "    elif myrad == 2:\n",
    "        total_voxels = 33\n",
    "    elif myrad == 3:\n",
    "        total_voxels = 123\n",
    "    elif myrad == 4:\n",
    "        total_voxels = 257\n",
    "    elif myrad == 5:\n",
    "        total_voxels = 515\n",
    "    elif myrad == 6:\n",
    "        total_voxels = 925\n",
    "    elif myrad == 7:\n",
    "        total_voxels = 1419\n",
    "    elif myrad == 8:\n",
    "        total_voxels = 2109\n",
    "    elif myrad == 10:\n",
    "        total_voxels = 4169\n",
    "\n",
    "    # set the minimum number of required voxels for a searchlight. roughly half (rounded up) total voxels in a searchlight cluster\n",
    "    #voxel_threshold = math.ceil(total_voxels/2)\n",
    "    #if np.sum(sl_mask) < voxel_threshold:\n",
    "    #    return 0\n",
    "\n",
    "    # turn data into betas x voxels\n",
    "    bolddata_sl = data4D[sl_mask==1].T\n",
    "    \n",
    "    b = bolddata_sl.shape[1]\n",
    "    \n",
    "    global a\n",
    "    if a>b:\n",
    "        a = a\n",
    "    elif b>a:\n",
    "        a = b\n",
    "\n",
    "    #if np.count_nonzero(np.sum(bolddata_sl,axis=0)) < voxel_threshold:\n",
    "    #    return 0\n",
    "\n",
    "    # Pearson correlation, excluding voxels outside the brain i.e., \"bolddata_sl != 0\" excludes columns (voxels) of all 0's\n",
    "    rsm = np.corrcoef(bolddata_sl[:,np.any(bolddata_sl!=0,axis=0)])\n",
    "    RDM = 1 - rsm\n",
    "\n",
    "    # np.round because otherwise scientific notation makes some '0' values not equal to 0\n",
    "    round_RDM = np.round(RDM,decimals=8)\n",
    "\n",
    "    # compare the neural RDM to a model, using only the upper off-diagonal triangle values\n",
    "    triu_RSA, _ = stats.spearmanr(round_RDM[np.triu_indices(round_RDM.shape[0],k=1)],\n",
    "                                  labels[np.triu_indices(labels.shape[0],k=1)])\n",
    "\n",
    "    # Fisher z-transform the r-value\n",
    "    fisher_RSA = np.arctanh(triu_RSA)\n",
    "\n",
    "    return fisher_RSA"
   ]
  },
  {
   "cell_type": "code",
   "execution_count": 20,
   "id": "6d1314a7-bc15-4296-aa5e-2652229352f2",
   "metadata": {},
   "outputs": [
    {
     "name": "stdout",
     "output_type": "stream",
     "text": [
      "\n",
      "Begin Searchlight\n",
      "End Searchlight\n",
      "\n",
      "Number of searchlights run: 72032\n",
      "Total searchlight duration (including start up time):\n",
      " 74.9807\n",
      "Maximum size of searchlight Ball is 4169\n"
     ]
    }
   ],
   "source": [
    "# Start the clock to time searchlight\n",
    "begin_time = time.time()\n",
    "\n",
    "print(\"\")\n",
    "print(\"Begin Searchlight\")\n",
    "\n",
    "if RSA_selection is 'model_matrix':\n",
    "    sl_result = sl.run_searchlight(calc_rsm_model_matrix, pool_size=pool_size)\n",
    "elif RSA_selection is 'neural_matrices':\n",
    "    sl_result = sl.run_searchlight(calc_rsm_neural_matrices, pool_size=pool_size)\n",
    "\n",
    "print(\"End Searchlight\\n\")\n",
    "\n",
    "end_time = time.time()\n",
    "\n",
    "print(\"Number of searchlights run: \" + str(len(sl_result[small_mask==1])))\n",
    "print('Total searchlight duration (including start up time):\\n %.4f' % (end_time - begin_time))\n",
    "\n",
    "print(\"Maximum size of searchlight \"\"Ball\"\" is \" + str(a))"
   ]
  },
  {
   "cell_type": "code",
   "execution_count": null,
   "id": "8f995388-45d9-4d47-9a07-25ce3e183964",
   "metadata": {},
   "outputs": [],
   "source": [
    "# DELETE ME BELOW"
   ]
  },
  {
   "cell_type": "code",
   "execution_count": null,
   "id": "e7f12acd-ecfd-41f6-82cf-88d59b9a2071",
   "metadata": {},
   "outputs": [],
   "source": [
    "data4D = data[0]\n",
    "total_voxels = 250\n",
    "voxel_threshold = math.ceil(total_voxels/2)"
   ]
  },
  {
   "cell_type": "code",
   "execution_count": null,
   "id": "3ed7c329-7416-49a6-8f23-76cf76fdb471",
   "metadata": {},
   "outputs": [],
   "source": [
    "bolddata_sl = data4D[small_mask==1].T"
   ]
  },
  {
   "cell_type": "code",
   "execution_count": null,
   "id": "92139e51-b414-49ed-87d6-a767f8a3cea1",
   "metadata": {},
   "outputs": [],
   "source": [
    "slice_mask = np.zeros(mask_np.shape)\n",
    "slice_mask[30:32,9:11,13:15] = 1"
   ]
  },
  {
   "cell_type": "code",
   "execution_count": null,
   "id": "37925920-3108-4d9c-9e4b-a7fcab13bf10",
   "metadata": {},
   "outputs": [],
   "source": [
    "test_sl = data4D[slice_mask==1].T"
   ]
  },
  {
   "cell_type": "code",
   "execution_count": null,
   "id": "edd69dc4-a9c7-44fd-bf0b-29a290906c70",
   "metadata": {},
   "outputs": [],
   "source": [
    "test_rsm = np.corrcoef(test_sl[:,np.any(test_sl!=0,axis=0)])\n",
    "TEST = 1 - test_rsm"
   ]
  },
  {
   "cell_type": "code",
   "execution_count": null,
   "id": "feb7cdc6-ee41-4076-9a9b-c7ceac1598c5",
   "metadata": {},
   "outputs": [],
   "source": [
    "round_RDM = np.round(TEST,decimals=8)\n",
    "labels = bcvar"
   ]
  },
  {
   "cell_type": "code",
   "execution_count": null,
   "id": "07c55df9-44cc-4ca1-a2ef-c3743f7887e3",
   "metadata": {},
   "outputs": [],
   "source": [
    "triu_RSA, _ = stats.spearmanr(round_RDM[np.triu_indices(round_RDM.shape[0],k=1)],\n",
    "                                  labels[np.triu_indices(labels.shape[0],k=1)])"
   ]
  },
  {
   "cell_type": "code",
   "execution_count": null,
   "id": "b0c83874-76fc-45db-92cb-12088bc18059",
   "metadata": {},
   "outputs": [],
   "source": [
    "fisher_RSA = np.arctanh(triu_RSA)"
   ]
  },
  {
   "cell_type": "code",
   "execution_count": null,
   "id": "e861300f-7c9a-47cd-b752-e5a60e202266",
   "metadata": {},
   "outputs": [],
   "source": [
    "rsm = np.corrcoef(bolddata_sl[:,np.any(bolddata_sl!=0,axis=0)])\n",
    "RDM = 1 - rsm"
   ]
  },
  {
   "cell_type": "code",
   "execution_count": null,
   "id": "075ad420-a585-4fa5-8b6b-f96a2e9e92c3",
   "metadata": {},
   "outputs": [],
   "source": [
    "import matplotlib.pyplot as plt\n",
    "%matplotlib inline"
   ]
  },
  {
   "cell_type": "code",
   "execution_count": null,
   "id": "3085f64b-36e7-40e4-aa0f-829259e3d095",
   "metadata": {},
   "outputs": [],
   "source": [
    "f, ax = plt.subplots(1,1, figsize=(8, 7))\n",
    "\n",
    "plt.imshow(\n",
    "    TEST, \n",
    "    cmap='bwr', \n",
    "    vmin=0,\n",
    "    vmax=2,\n",
    ")\n",
    "plt.colorbar()\n",
    "ax.set_title('RSM, unsorted') \n",
    "ax.set_xlabel('stimuli id')\n",
    "ax.set_ylabel('stimuli id')"
   ]
  },
  {
   "cell_type": "code",
   "execution_count": null,
   "id": "5b05844a-99ad-4a01-8e71-e02d82d74a8d",
   "metadata": {},
   "outputs": [],
   "source": [
    "# DELETE ME ABOVE"
   ]
  },
  {
   "cell_type": "code",
   "execution_count": null,
   "id": "297a0a3f-a18f-4a11-8b3d-477a7b524190",
   "metadata": {},
   "outputs": [],
   "source": [
    "# convert 'None' and int array to 'NaN' and double then replace 'NaN' with 0\n",
    "result_vol = sl_result.astype('double')\n",
    "result_vol[np.isnan(result_vol)] = 0\n",
    "# convert results to NiBabel NIfTI image with original affine matrix\n",
    "sl_nii = nib.Nifti1Image(result_vol, affine_mat)\n",
    "# set voxel size in header\n",
    "# I think even though 'hdr' is \"detached\" from sl_nii, it still is a part of it?\n",
    "# you can access the zooms data through sl_nii.header even though you set it through 'hdr'\n",
    "hdr = sl_nii.header\n",
    "hdr.set_zooms((dimsize[0], dimsize[1], dimsize[2]))"
   ]
  },
  {
   "cell_type": "code",
   "execution_count": null,
   "id": "bd8b11a5-2dc1-4596-abcf-29eefa42bb4d",
   "metadata": {},
   "outputs": [],
   "source": [
    "print(\"Saving...\")\n",
    "\n",
    "# save data\n",
    "nib.save(sl_nii, output_name)\n",
    "\n",
    "print(\"Saved!\")\n",
    "print(\"---\")"
   ]
  },
  {
   "cell_type": "code",
   "execution_count": null,
   "id": "48454062-0153-4141-8816-4db14fd9bad1",
   "metadata": {},
   "outputs": [],
   "source": []
  }
 ],
 "metadata": {
  "kernelspec": {
   "display_name": "Python [conda env:brainiak]",
   "language": "python",
   "name": "conda-env-brainiak-py"
  },
  "language_info": {
   "codemirror_mode": {
    "name": "ipython",
    "version": 3
   },
   "file_extension": ".py",
   "mimetype": "text/x-python",
   "name": "python",
   "nbconvert_exporter": "python",
   "pygments_lexer": "ipython3",
   "version": "3.7.10"
  }
 },
 "nbformat": 4,
 "nbformat_minor": 5
}
